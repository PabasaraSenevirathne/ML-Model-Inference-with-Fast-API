{
 "cells": [
  {
   "cell_type": "markdown",
   "metadata": {},
   "source": [
    "# 🏡 House Price Prediction - FastAPI Project\n",
    "\n",
    "This notebook covers:\n",
    "- Generating synthetic data\n",
    "- Training a Linear Regression model\n",
    "- Saving the model\n",
    "- Instructions to run a FastAPI app for inference"
   ]
  },
  {
   "cell_type": "code",
   "execution_count": null,
   "metadata": {},
   "outputs": [],
   "source": [
    "# 📦 Install required libraries\n",
    "%pip install scikit-learn pandas numpy joblib fastapi uvicorn --quiet"
   ]
  },
  {
   "cell_type": "markdown",
   "metadata": {},
   "source": [
    "## 🔧 Generate Synthetic Data and Train Model"
   ]
  },
  {
   "cell_type": "code",
   "execution_count": null,
   "metadata": {},
   "outputs": [],
   "source": [
    "import numpy as np # type: ignore\n",
    "import pandas as pd # type: ignore\n",
    "from sklearn.linear_model import LinearRegression # type: ignore\n",
    "from sklearn.model_selection import train_test_split # type: ignore\n",
    "import joblib # type: ignore\n",
    "\n",
    "# Generate synthetic data\n",
    "np.random.seed(42)\n",
    "data_size = 1000\n",
    "\n",
    "square_footage = np.random.randint(500, 5000, size=data_size)\n",
    "bedrooms = np.random.randint(1, 6, size=data_size)\n",
    "bathrooms = np.round(np.random.uniform(1, 4, size=data_size), 1)\n",
    "house_age = np.random.randint(0, 100, size=data_size)\n",
    "\n",
    "# Generate price\n",
    "price = (square_footage * 150) + (bedrooms * 10000) + (bathrooms * 7000) - (house_age * 500) + np.random.normal(0, 20000, size=data_size)\n",
    "\n",
    "# Create DataFrame\n",
    "df = pd.DataFrame({\n",
    "    \"square_footage\": square_footage,\n",
    "    \"bedrooms\": bedrooms,\n",
    "    \"bathrooms\": bathrooms,\n",
    "    \"house_age\": house_age,\n",
    "    \"price\": price\n",
    "})\n",
    "\n",
    "df.head()"
   ]
  },
  {
   "cell_type": "code",
   "execution_count": null,
   "metadata": {},
   "outputs": [],
   "source": [
    "# Train-test split\n",
    "X = df[[\"square_footage\", \"bedrooms\", \"bathrooms\", \"house_age\"]]\n",
    "y = df[\"price\"]\n",
    "\n",
    "X_train, X_test, y_train, y_test = train_test_split(X, y, test_size=0.2, random_state=42)\n",
    "\n",
    "# Train model\n",
    "model = LinearRegression()\n",
    "model.fit(X_train, y_train)\n",
    "\n",
    "# Save model\n",
    "joblib.dump(model, \"model.pkl\")\n",
    "print(\"✅ Model trained and saved as 'model.pkl'\")"
   ]
  },
  {
   "cell_type": "markdown",
   "metadata": {},
   "source": [
    "## 🚀 FastAPI Code\n",
    "\n",
    "Copy the following code into a file named `main.py`."
   ]
  },
  {
   "cell_type": "code",
   "execution_count": null,
   "metadata": {},
   "outputs": [],
   "source": [
    "%%writefile main.py\n",
    "from fastapi import FastAPI, HTTPException\n",
    "from pydantic import BaseModel\n",
    "import joblib\n",
    "import numpy as np\n",
    "\n",
    "# Load the trained model\n",
    "try:\n",
    "    model = joblib.load(\"model.pkl\")\n",
    "except Exception as e:\n",
    "    raise RuntimeError(\"Model loading failed\")\n",
    "\n",
    "app = FastAPI(title=\"House Price Predictor\", description=\"Predict house prices using linear regression\")\n",
    "\n",
    "# Input schema\n",
    "class PredictionInput(BaseModel):\n",
    "    square_footage: float\n",
    "    bedrooms: int\n",
    "    bathrooms: float\n",
    "    house_age: int\n",
    "\n",
    "class PredictionOutput(BaseModel):\n",
    "    prediction: float\n",
    "\n",
    "# Health check\n",
    "@app.get(\"/\")\n",
    "def health_check():\n",
    "    return {\"status\": \"healthy\", \"message\": \"House Price Prediction API is running\"}\n",
    "\n",
    "# Prediction endpoint\n",
    "@app.post(\"/predict\", response_model=PredictionOutput)\n",
    "def predict(input_data: PredictionInput):\n",
    "    try:\n",
    "        features = np.array([[\n",
    "            input_data.square_footage,\n",
    "            input_data.bedrooms,\n",
    "            input_data.bathrooms,\n",
    "            input_data.house_age\n",
    "        ]])\n",
    "        prediction = model.predict(features)[0]\n",
    "        return PredictionOutput(prediction=round(prediction, 2))\n",
    "    except Exception as e:\n",
    "        raise HTTPException(status_code=400, detail=str(e))\n",
    "\n",
    "# Model info\n",
    "@app.get(\"/model-info\")\n",
    "def model_info():\n",
    "    return {\n",
    "        \"model_type\": \"LinearRegression\",\n",
    "        \"problem_type\": \"Regression\",\n",
    "        \"features\": [\"square_footage\", \"bedrooms\", \"bathrooms\", \"house_age\"]\n",
    "    }"
   ]
  },
  {
   "cell_type": "markdown",
   "metadata": {},
   "source": [
    "## ▶️ Run FastAPI App (in terminal)\n",
    "\n",
    "Once the model is trained and `main.py` is saved:\n",
    "\n",
    "```bash\n",
    "uvicorn main:app --reload\n",
    "```\n",
    "\n",
    "Visit: http://localhost:8000/docs to test the API."
   ]
  },
  {
   "cell_type": "markdown",
   "metadata": {},
   "source": [
    "## 📄 Example JSON Request for `/predict`\n",
    "```json\n",
    "{\n",
    "  \"square_footage\": 2500,\n",
    "  \"bedrooms\": 3,\n",
    "  \"bathrooms\": 2.5,\n",
    "  \"house_age\": 10\n",
    "}\n",
    "```"
   ]
  }
 ],
 "metadata": {
  "kernelspec": {
   "display_name": "Python 3",
   "language": "python",
   "name": "python3"
  },
  "language_info": {
   "name": "python",
   "version": ""
  }
 },
 "nbformat": 4,
 "nbformat_minor": 5
}
